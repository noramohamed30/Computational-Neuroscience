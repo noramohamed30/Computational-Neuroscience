{
 "cells": [
  {
   "cell_type": "code",
   "execution_count": 2,
   "id": "0e5ce3e8-575a-4021-8600-1dd2c8461a50",
   "metadata": {},
   "outputs": [],
   "source": [
    "# Basic math operations\n",
    "\n",
    "import math\n",
    "import random\n",
    "\n",
    "def matmul(A, B):\n",
    "    result = []\n",
    "    for i in range(len(A)):\n",
    "        row = []\n",
    "        for j in range(len(B[0])):\n",
    "            sum = 0\n",
    "            for k in range(len(A[0])):\n",
    "                sum += A[i][k] * B[k][j]\n",
    "            row.append(sum)\n",
    "        result.append(row)\n",
    "    return result\n",
    "\n",
    "def add_vectors(a, b):\n",
    "    return [[a[i][0] + b[i][0]] for i in range(len(a))]\n",
    "\n",
    "def subtract_vectors(a, b):\n",
    "    return [[a[i][0] - b[i][0]] for i in range(len(a))]\n",
    "\n",
    "def tanh(x):\n",
    "    return [[math.tanh(x[i][0])] for i in range(len(x))]\n",
    "\n",
    "def tanh_derivative(x):\n",
    "    return [[1 - math.tanh(x[i][0])**2] for i in range(len(x))]\n",
    "\n",
    "def transpose(A):\n",
    "    return [[A[j][i] for j in range(len(A))] for i in range(len(A[0]))]\n"
   ]
  },
  {
   "cell_type": "code",
   "execution_count": 3,
   "id": "97991e2f-8ebe-4991-8dab-a6b51db7d18c",
   "metadata": {},
   "outputs": [],
   "source": [
    "# Initialize RNN parameters\n",
    "\n",
    "def init_rnn(input_size, hidden_size, output_size):\n",
    "    def random_matrix(rows, cols):\n",
    "        return [[random.uniform(-0.1, 0.1) for _ in range(cols)] for _ in range(rows)]\n",
    "    \n",
    "    return {\n",
    "        'W_xh': random_matrix(hidden_size, input_size),\n",
    "        'W_hh': random_matrix(hidden_size, hidden_size),\n",
    "        'W_hy': random_matrix(output_size, hidden_size),\n",
    "        'b_h': [[0] for _ in range(hidden_size)],\n",
    "        'b_y': [[0] for _ in range(output_size)]\n",
    "    }\n"
   ]
  },
  {
   "cell_type": "code",
   "execution_count": 4,
   "id": "ec282d4b-b401-408f-86e5-68c1a29cd443",
   "metadata": {},
   "outputs": [],
   "source": [
    "# Forward pass through the RNN\n",
    "\n",
    "def rnn_forward(inputs, h_prev, params):\n",
    "    W_xh, W_hh, W_hy, b_h, b_y = params.values()\n",
    "    h, y = {}, {}\n",
    "    h[-1] = h_prev\n",
    "    for t in range(len(inputs)):\n",
    "        temp1 = matmul(W_xh, inputs[t])\n",
    "        temp2 = matmul(W_hh, h[t-1])\n",
    "        h[t] = tanh(add_vectors(add_vectors(temp1, temp2), b_h))\n",
    "        y[t] = add_vectors(matmul(W_hy, h[t]), b_y)\n",
    "    return y, h\n"
   ]
  },
  {
   "cell_type": "code",
   "execution_count": 5,
   "id": "e9141630-a7b8-47dd-870f-6049fe8a63b4",
   "metadata": {},
   "outputs": [],
   "source": [
    "# Backward pass (Backpropagation Through Time - BPTT)\n",
    "\n",
    "def rnn_backward(inputs, targets, outputs, h, params):\n",
    "    W_xh, W_hh, W_hy, b_h, b_y = params.values()\n",
    "    dW_xh = [[0 for _ in range(len(W_xh[0]))] for _ in range(len(W_xh))]\n",
    "    dW_hh = [[0 for _ in range(len(W_hh[0]))] for _ in range(len(W_hh))]\n",
    "    dW_hy = [[0 for _ in range(len(W_hy[0]))] for _ in range(len(W_hy))]\n",
    "    db_h = [[0] for _ in range(len(b_h))]\n",
    "    db_y = [[0] for _ in range(len(b_y))]\n",
    "    \n",
    "    dh_next = [[0] for _ in range(len(h[0]))]\n",
    "    \n",
    "    for t in reversed(range(len(inputs))):\n",
    "        dy = subtract_vectors(outputs[t], targets[t])\n",
    "        dW_hy_t = matmul(dy, transpose(h[t]))\n",
    "        dW_hy = [[dW_hy[i][j] + dW_hy_t[i][j] for j in range(len(dW_hy[0]))] for i in range(len(dW_hy))]\n",
    "        db_y = [[db_y[i][0] + dy[i][0]] for i in range(len(db_y))]\n",
    "\n",
    "        dh = matmul(transpose(W_hy), dy)\n",
    "        dh = [[dh[i][0] + dh_next[i][0]] for i in range(len(dh))]\n",
    "\n",
    "        dh_raw = [[dh[i][0] * tanh_derivative(h[t])[i][0]] for i in range(len(dh))]\n",
    "        db_h = [[db_h[i][0] + dh_raw[i][0]] for i in range(len(db_h))]\n",
    "\n",
    "        dW_xh_t = matmul(dh_raw, transpose(inputs[t]))\n",
    "        dW_xh = [[dW_xh[i][j] + dW_xh_t[i][j] for j in range(len(dW_xh[0]))] for i in range(len(dW_xh))]\n",
    "        \n",
    "        dW_hh_t = matmul(dh_raw, transpose(h[t-1]))\n",
    "        dW_hh = [[dW_hh[i][j] + dW_hh_t[i][j] for j in range(len(dW_hh[0]))] for i in range(len(dW_hh))]\n",
    "\n",
    "        dh_next = matmul(transpose(W_hh), dh_raw)\n",
    "        \n",
    "    gradients = {\n",
    "        'W_xh': dW_xh,\n",
    "        'W_hh': dW_hh,\n",
    "        'W_hy': dW_hy,\n",
    "        'b_h': db_h,\n",
    "        'b_y': db_y\n",
    "    }\n",
    "    return gradients\n"
   ]
  },
  {
   "cell_type": "code",
   "execution_count": 6,
   "id": "b21dffb8-ec52-467e-b1a8-2f90c0f3979e",
   "metadata": {},
   "outputs": [
    {
     "name": "stdout",
     "output_type": "stream",
     "text": [
      "Forward outputs:\n",
      "Time 0: [[0.007916150915552318]]\n",
      "Time 1: [[-0.005647810960905676]]\n",
      "Time 2: [[0.003456432113094685]]\n",
      "\n",
      "Gradients:\n",
      "W_xh: [[-0.048419726362532986, -0.0038669584713361942], [-0.06011726870988073, -0.004451161998164945], [0.06766197081306215, 0.005261962973507856]]\n",
      "W_hh: [[0.003748347216056887, -0.00016335025135174474, -0.0005416075090800145], [0.004058661693224363, 0.0001663970911678557, -0.0012000327179545855], [-0.0046283784969281755, -0.00014664853069729314, 0.0012914315256594342]]\n",
      "W_hy: [[0.0832498713861981, -0.001473936067610624, -0.021962048479855563]]\n",
      "b_h: [[0.08848458838701315], [0.09165346031325428], [-0.10530840995818846]]\n",
      "b_y: [[-1.204927069454751]]\n"
     ]
    }
   ],
   "source": [
    "# Testing the RNN (Example)\n",
    "\n",
    "input_size = 2\n",
    "hidden_size = 3\n",
    "output_size = 1\n",
    "\n",
    "params = init_rnn(input_size, hidden_size, output_size)\n",
    "\n",
    "# Create random inputs and targets\n",
    "inputs = [[[random.uniform(-1,1)] for _ in range(input_size)] for _ in range(3)]\n",
    "targets = [[[random.uniform(-1,1)] for _ in range(output_size)] for _ in range(3)]\n",
    "h_prev = [[0] for _ in range(hidden_size)]\n",
    "\n",
    "# Forward\n",
    "outputs, h = rnn_forward(inputs, h_prev, params)\n",
    "\n",
    "# Backward\n",
    "grads = rnn_backward(inputs, targets, outputs, h, params)\n",
    "\n",
    "print(\"Forward outputs:\")\n",
    "for t in outputs:\n",
    "    print(f\"Time {t}: {outputs[t]}\")\n",
    "\n",
    "print(\"\\nGradients:\")\n",
    "for k in grads:\n",
    "    print(f\"{k}: {grads[k]}\")\n"
   ]
  },
  {
   "cell_type": "markdown",
   "id": "e4301fbc-b2ef-45f1-b3dd-5d78d8261493",
   "metadata": {},
   "source": [
    "# Name: Nora Mohamed Ebrahim\n",
    "# ID: 4221310\n",
    "# Subgroup: A5 - AI"
   ]
  },
  {
   "cell_type": "code",
   "execution_count": null,
   "id": "d6f4842c-3bda-43b2-9457-eb4705b378bd",
   "metadata": {},
   "outputs": [],
   "source": []
  }
 ],
 "metadata": {
  "kernelspec": {
   "display_name": "Python 3 (ipykernel)",
   "language": "python",
   "name": "python3"
  },
  "language_info": {
   "codemirror_mode": {
    "name": "ipython",
    "version": 3
   },
   "file_extension": ".py",
   "mimetype": "text/x-python",
   "name": "python",
   "nbconvert_exporter": "python",
   "pygments_lexer": "ipython3",
   "version": "3.12.7"
  }
 },
 "nbformat": 4,
 "nbformat_minor": 5
}
